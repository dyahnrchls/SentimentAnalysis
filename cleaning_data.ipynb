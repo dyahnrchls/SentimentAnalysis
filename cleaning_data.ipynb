{
 "cells": [
  {
   "cell_type": "code",
   "execution_count": 76,
   "id": "a214c7e0-6094-49a5-b0c4-f2ab65416583",
   "metadata": {},
   "outputs": [],
   "source": [
    "# PREPARATION\n",
    "\n",
    "import pandas as pd\n",
    "import os\n",
    "import re\n",
    "\n",
    "# read file\n",
    "data = pd.read_csv('stock_data.csv', encoding='utf-8')\n",
    "countPos = 0\n",
    "countNeg = 0\n",
    "count = 0\n",
    "\n",
    "def format_sentence(sentence) :\n",
    "# split text into one sentence per line\n",
    "    sentenceSplit = sentence.split(\". \")\n",
    "    newSentence = ''\n",
    "# add white space around punctuation like periods, commas, and brackets.\n",
    "    for s in sentenceSplit:\n",
    "        s = re.sub('([.,!?()])', r' \\1 ', s)\n",
    "        s = re.sub('\\s{2,}', ' ', s)\n",
    "        newSentence += s + '.\\n'\n",
    "    return newSentence\n",
    "\n",
    "# all text convert to lowercase with lower()\n",
    "for line in data.values:\n",
    "    if str(line[1]) == '1':\n",
    "        with open('stock twitter data - 2/all/pos/pos_{}.txt'.format(countPos),'a+', encoding='utf-8') as f:\n",
    "            f.write(format_sentence(str(line[0]).lower()))\n",
    "            countPos += 1\n",
    "    if str(line[1]) == '-1':\n",
    "         with open('stock twitter data - 2/all/neg/neg_{}.txt'.format(countNeg),'a+', encoding='utf-8') as f:\n",
    "            format_sentence(str(line[0]).lower())\n",
    "            f.write(format_sentence(str(line[0]).lower()))\n",
    "            countNeg += 1\n",
    "    count += 1"
   ]
  }
 ],
 "metadata": {
  "kernelspec": {
   "display_name": "Python 3",
   "language": "python",
   "name": "python3"
  },
  "language_info": {
   "codemirror_mode": {
    "name": "ipython",
    "version": 3
   },
   "file_extension": ".py",
   "mimetype": "text/x-python",
   "name": "python",
   "nbconvert_exporter": "python",
   "pygments_lexer": "ipython3",
   "version": "3.8.8"
  }
 },
 "nbformat": 4,
 "nbformat_minor": 5
}
